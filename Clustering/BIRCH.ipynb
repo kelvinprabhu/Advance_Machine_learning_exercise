{
 "cells": [
  {
   "cell_type": "code",
   "execution_count": null,
   "metadata": {
    "vscode": {
     "languageId": "plaintext"
    }
   },
   "outputs": [],
   "source": [
    "from sklearn.cluster import Birch\n",
    "\n",
    "# Apply BIRCH\n",
    "birch = Birch(n_clusters=4)\n",
    "birch.fit(data)\n",
    "labels = birch.predict(data)\n",
    "\n",
    "# Visualize\n",
    "plt.scatter(data[:, 0], data[:, 1], c=labels, cmap='viridis')\n",
    "plt.show()\n"
   ]
  }
 ],
 "metadata": {
  "language_info": {
   "name": "python"
  }
 },
 "nbformat": 4,
 "nbformat_minor": 2
}
