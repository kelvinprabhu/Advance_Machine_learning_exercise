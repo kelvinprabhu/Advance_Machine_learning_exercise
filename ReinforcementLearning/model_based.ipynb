{
 "cells": [
  {
   "cell_type": "code",
   "execution_count": 2,
   "metadata": {},
   "outputs": [
    {
     "data": {
      "text/html": [
       "<div>\n",
       "<style scoped>\n",
       "    .dataframe tbody tr th:only-of-type {\n",
       "        vertical-align: middle;\n",
       "    }\n",
       "\n",
       "    .dataframe tbody tr th {\n",
       "        vertical-align: top;\n",
       "    }\n",
       "\n",
       "    .dataframe thead th {\n",
       "        text-align: right;\n",
       "    }\n",
       "</style>\n",
       "<table border=\"1\" class=\"dataframe\">\n",
       "  <thead>\n",
       "    <tr style=\"text-align: right;\">\n",
       "      <th></th>\n",
       "      <th>Current State (Row, Col)</th>\n",
       "      <th>Action</th>\n",
       "      <th>Next State (Row, Col)</th>\n",
       "      <th>Reward</th>\n",
       "    </tr>\n",
       "  </thead>\n",
       "  <tbody>\n",
       "    <tr>\n",
       "      <th>0</th>\n",
       "      <td>(0, 3)</td>\n",
       "      <td>Up</td>\n",
       "      <td>(0, 3)</td>\n",
       "      <td>-5</td>\n",
       "    </tr>\n",
       "    <tr>\n",
       "      <th>1</th>\n",
       "      <td>(0, 0)</td>\n",
       "      <td>Right</td>\n",
       "      <td>(0, 1)</td>\n",
       "      <td>-1</td>\n",
       "    </tr>\n",
       "    <tr>\n",
       "      <th>2</th>\n",
       "      <td>(2, 2)</td>\n",
       "      <td>Down</td>\n",
       "      <td>(3, 2)</td>\n",
       "      <td>-1</td>\n",
       "    </tr>\n",
       "    <tr>\n",
       "      <th>3</th>\n",
       "      <td>(0, 4)</td>\n",
       "      <td>Left</td>\n",
       "      <td>(0, 3)</td>\n",
       "      <td>-1</td>\n",
       "    </tr>\n",
       "    <tr>\n",
       "      <th>4</th>\n",
       "      <td>(0, 0)</td>\n",
       "      <td>Down</td>\n",
       "      <td>(1, 0)</td>\n",
       "      <td>-1</td>\n",
       "    </tr>\n",
       "  </tbody>\n",
       "</table>\n",
       "</div>"
      ],
      "text/plain": [
       "  Current State (Row, Col) Action Next State (Row, Col)  Reward\n",
       "0                   (0, 3)     Up                (0, 3)      -5\n",
       "1                   (0, 0)  Right                (0, 1)      -1\n",
       "2                   (2, 2)   Down                (3, 2)      -1\n",
       "3                   (0, 4)   Left                (0, 3)      -1\n",
       "4                   (0, 0)   Down                (1, 0)      -1"
      ]
     },
     "execution_count": 2,
     "metadata": {},
     "output_type": "execute_result"
    }
   ],
   "source": [
    "import pandas as pd\n",
    "import numpy as np\n",
    "import matplotlib.pyplot as plt\n",
    "import seaborn as sns\n",
    "\n",
    "df = pd.read_csv(r'D:\\MSAIM\\trimister-2 msaiml\\Adv-Machine_learning\\ReinforcementLearning\\model_based_rl_dataset - model_based_rl_dataset.csv')\n",
    "df.head()"
   ]
  },
  {
   "cell_type": "code",
   "execution_count": 3,
   "metadata": {},
   "outputs": [
    {
     "data": {
      "text/plain": [
       "(300, 4)"
      ]
     },
     "execution_count": 3,
     "metadata": {},
     "output_type": "execute_result"
    }
   ],
   "source": [
    "df.shape"
   ]
  },
  {
   "cell_type": "code",
   "execution_count": 5,
   "metadata": {},
   "outputs": [
    {
     "name": "stdout",
     "output_type": "stream",
     "text": [
      "[[ 1.  0.  0.  0.  0.]\n",
      " [ 0. -1.  0.  0.  0.]\n",
      " [ 0.  0. -1.  0.  0.]\n",
      " [ 0.  0.  0. -1.  0.]\n",
      " [ 0.  0.  0.  0.  2.]]\n"
     ]
    }
   ],
   "source": [
    "# Create a 5x5 grid\n",
    "grid = np.zeros((5, 5))\n",
    "\n",
    "# Define start and goal positions\n",
    "start = (0, 0)\n",
    "goal = (4, 4)\n",
    "\n",
    "# Mark some cells as obstacles\n",
    "obstacles = [(1, 1), (2, 2), (3, 3)]\n",
    "for obstacle in obstacles:\n",
    "    grid[obstacle] = -1\n",
    "\n",
    "# Mark start and goal positions\n",
    "grid[start] = 1\n",
    "grid[goal] = 2\n",
    "\n",
    "print(grid)"
   ]
  },
  {
   "cell_type": "code",
   "execution_count": null,
   "metadata": {},
   "outputs": [],
   "source": []
  }
 ],
 "metadata": {
  "kernelspec": {
   "display_name": "base",
   "language": "python",
   "name": "python3"
  },
  "language_info": {
   "codemirror_mode": {
    "name": "ipython",
    "version": 3
   },
   "file_extension": ".py",
   "mimetype": "text/x-python",
   "name": "python",
   "nbconvert_exporter": "python",
   "pygments_lexer": "ipython3",
   "version": "3.12.3"
  }
 },
 "nbformat": 4,
 "nbformat_minor": 2
}
